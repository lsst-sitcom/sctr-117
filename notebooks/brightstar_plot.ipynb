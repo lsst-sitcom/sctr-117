{
 "cells": [
  {
   "cell_type": "code",
   "execution_count": 1,
   "id": "96fcfa7c-514d-4fc7-95db-878a5016649f",
   "metadata": {
    "execution": {
     "iopub.execute_input": "2025-02-05T18:05:02.035540Z",
     "iopub.status.busy": "2025-02-05T18:05:02.035426Z",
     "iopub.status.idle": "2025-02-05T18:05:03.647372Z",
     "shell.execute_reply": "2025-02-05T18:05:03.644903Z",
     "shell.execute_reply.started": "2025-02-05T18:05:02.035527Z"
    }
   },
   "outputs": [],
   "source": [
    "import fitsio\n",
    "import matplotlib.pyplot as plt\n",
    "import numpy \n",
    "import pandas as pd\n",
    "import lsst.daf.butler as dafButler\n",
    "import numpy as np\n",
    "import astropy.units as u\n",
    "from smatch import match\n",
    "from lsst.afw.table import SimpleCatalog\n",
    "from scipy.signal import medfilt"
   ]
  },
  {
   "cell_type": "code",
   "execution_count": 2,
   "id": "2ddea4a8-3db1-465a-94e0-b444fbf24a19",
   "metadata": {
    "execution": {
     "iopub.execute_input": "2025-02-05T18:05:03.695155Z",
     "iopub.status.busy": "2025-02-05T18:05:03.695021Z",
     "iopub.status.idle": "2025-02-05T18:05:06.633453Z",
     "shell.execute_reply": "2025-02-05T18:05:06.632878Z",
     "shell.execute_reply.started": "2025-02-05T18:05:03.695142Z"
    }
   },
   "outputs": [],
   "source": [
    "repo = '/repo/main'\n",
    "collections =[\"LSSTComCam/runs/DRP/DP1/w_2025_05/DM-48666\"]\n",
    "butler = dafButler.Butler(repo, collections=collections)\n",
    "all_collections = butler.registry.queryCollections()\n"
   ]
  },
  {
   "cell_type": "code",
   "execution_count": 4,
   "id": "e38e8f26-33a1-486d-a324-8dd90a9718c8",
   "metadata": {
    "execution": {
     "iopub.execute_input": "2025-02-05T18:05:47.670882Z",
     "iopub.status.busy": "2025-02-05T18:05:47.670566Z",
     "iopub.status.idle": "2025-02-05T18:05:47.678688Z",
     "shell.execute_reply": "2025-02-05T18:05:47.678233Z",
     "shell.execute_reply.started": "2025-02-05T18:05:47.670861Z"
    }
   },
   "outputs": [],
   "source": [
    "all_collections=[ i for i in all_collections if \"LSSTComCam\" in i]"
   ]
  },
  {
   "cell_type": "code",
   "execution_count": 5,
   "id": "deaf6e7f-dc6a-4150-85a1-2f06de0a50ca",
   "metadata": {
    "execution": {
     "iopub.execute_input": "2025-02-05T18:06:00.856874Z",
     "iopub.status.busy": "2025-02-05T18:06:00.856494Z",
     "iopub.status.idle": "2025-02-05T18:06:05.004629Z",
     "shell.execute_reply": "2025-02-05T18:06:05.004075Z",
     "shell.execute_reply.started": "2025-02-05T18:06:00.856851Z"
    }
   },
   "outputs": [],
   "source": [
    "\n",
    "butler = dafButler.Butler(repo, collections=all_collections)\n"
   ]
  },
  {
   "cell_type": "code",
   "execution_count": 6,
   "id": "2dbc7b6b-97df-41d0-b6dc-5836c0b93911",
   "metadata": {
    "execution": {
     "iopub.execute_input": "2025-02-05T18:06:10.187853Z",
     "iopub.status.busy": "2025-02-05T18:06:10.187625Z",
     "iopub.status.idle": "2025-02-05T18:06:10.527842Z",
     "shell.execute_reply": "2025-02-05T18:06:10.527395Z",
     "shell.execute_reply.started": "2025-02-05T18:06:10.187836Z"
    }
   },
   "outputs": [],
   "source": [
    "refs=butler.registry.queryDatasets('ccdVisitTable')"
   ]
  },
  {
   "cell_type": "code",
   "execution_count": 8,
   "id": "49381768-9a17-4568-989a-9aff22598431",
   "metadata": {
    "execution": {
     "iopub.execute_input": "2025-02-05T18:06:20.750678Z",
     "iopub.status.busy": "2025-02-05T18:06:20.750328Z",
     "iopub.status.idle": "2025-02-05T18:06:20.780340Z",
     "shell.execute_reply": "2025-02-05T18:06:20.779979Z",
     "shell.execute_reply.started": "2025-02-05T18:06:20.750658Z"
    }
   },
   "outputs": [
    {
     "data": {
      "text/plain": [
       "[DatasetRef(DatasetType('ccdVisitTable', {instrument}, DataFrame), {instrument: 'LSSTComCam'}, run='LSSTComCam/runs/DRP/DP1/w_2025_03/DM-48478/20250117T153854Z', id=bfde403c-c250-4489-a0c9-d9798bc2b81c),\n",
       " DatasetRef(DatasetType('ccdVisitTable', {instrument}, DataFrame), {instrument: 'LSSTComCam'}, run='LSSTComCam/runs/DRP/DP1/w_2025_04/DM-48556/20250124T173047Z', id=5ad0db51-95f6-4d5e-ad29-8528e4c3a39f),\n",
       " DatasetRef(DatasetType('ccdVisitTable', {instrument}, DataFrame), {instrument: 'LSSTComCam'}, run='LSSTComCam/runs/DRP/DP1/w_2025_05/DM-48666/20250131T132156Z', id=1d110d50-08dd-41f2-8f0f-4e51a525c707),\n",
       " DatasetRef(DatasetType('ccdVisitTable', {instrument}, DataFrame), {instrument: 'LSSTComCam'}, run='LSSTComCam/runs/DRP/DP1/w_2025_05/DM-48666/20250131T171816Z', id=195547c0-5fd2-46e5-932c-b369b11168ab),\n",
       " DatasetRef(DatasetType('ccdVisitTable', {instrument}, DataFrame), {instrument: 'LSSTComCam'}, run='u/jbosch/DM-47632/drp/20250123T122544Z', id=6e2675eb-f02e-43e8-bea4-2d5dae9b5cf8),\n",
       " DatasetRef(DatasetType('ccdVisitTable', {instrument}, DataFrame), {instrument: 'LSSTComCam'}, run='u/laurenma/DM-30993_LSSTComCam_DP1_v1/20250128T011304Z', id=0b3c3a9f-f9ad-4512-a560-098762d7834e),\n",
       " DatasetRef(DatasetType('ccdVisitTable', {instrument}, DataFrame), {instrument: 'LSSTComCam'}, run='u/laurenma/DM-30993_LSSTComCam_DP1_v2/20250129T195053Z', id=725768e2-c640-4134-8e5f-6b417e572236),\n",
       " DatasetRef(DatasetType('ccdVisitTable', {instrument}, DataFrame), {instrument: 'LSSTComCam'}, run='u/laurenma/DM-30993_LSSTComCam_DP1_v4/20250202T183803Z', id=17239ade-da8e-4d59-9294-2c0f76410c4f)]"
      ]
     },
     "execution_count": 8,
     "metadata": {},
     "output_type": "execute_result"
    }
   ],
   "source": [
    "sorted(refs)"
   ]
  },
  {
   "cell_type": "code",
   "execution_count": 9,
   "id": "2ca4100b-4d00-462f-91a0-5d3a9863b454",
   "metadata": {
    "execution": {
     "iopub.execute_input": "2025-02-05T18:15:21.492720Z",
     "iopub.status.busy": "2025-02-05T18:15:21.492419Z",
     "iopub.status.idle": "2025-02-05T18:15:22.794949Z",
     "shell.execute_reply": "2025-02-05T18:15:22.794424Z",
     "shell.execute_reply.started": "2025-02-05T18:15:21.492706Z"
    }
   },
   "outputs": [],
   "source": [
    "ccd_visit_table = butler.get(butler.query_datasets('ccdVisitTable')[0])"
   ]
  },
  {
   "cell_type": "code",
   "execution_count": 10,
   "id": "fc82eae2-54bc-4603-8284-de54effdfd66",
   "metadata": {
    "execution": {
     "iopub.execute_input": "2025-02-05T18:15:29.900762Z",
     "iopub.status.busy": "2025-02-05T18:15:29.900049Z",
     "iopub.status.idle": "2025-02-05T18:15:29.915777Z",
     "shell.execute_reply": "2025-02-05T18:15:29.915372Z",
     "shell.execute_reply.started": "2025-02-05T18:15:29.900742Z"
    }
   },
   "outputs": [
    {
     "data": {
      "text/html": [
       "<div>\n",
       "<style scoped>\n",
       "    .dataframe tbody tr th:only-of-type {\n",
       "        vertical-align: middle;\n",
       "    }\n",
       "\n",
       "    .dataframe tbody tr th {\n",
       "        vertical-align: top;\n",
       "    }\n",
       "\n",
       "    .dataframe thead th {\n",
       "        text-align: right;\n",
       "    }\n",
       "</style>\n",
       "<table border=\"1\" class=\"dataframe\">\n",
       "  <thead>\n",
       "    <tr style=\"text-align: right;\">\n",
       "      <th></th>\n",
       "      <th>visitId</th>\n",
       "      <th>physical_filter</th>\n",
       "      <th>band</th>\n",
       "      <th>ra</th>\n",
       "      <th>dec</th>\n",
       "      <th>pixelScale</th>\n",
       "      <th>zenithDistance</th>\n",
       "      <th>expTime</th>\n",
       "      <th>zeroPoint</th>\n",
       "      <th>psfSigma</th>\n",
       "      <th>...</th>\n",
       "      <th>xSize</th>\n",
       "      <th>ySize</th>\n",
       "      <th>llcra</th>\n",
       "      <th>llcdec</th>\n",
       "      <th>ulcra</th>\n",
       "      <th>ulcdec</th>\n",
       "      <th>urcra</th>\n",
       "      <th>urcdec</th>\n",
       "      <th>lrcra</th>\n",
       "      <th>lrcdec</th>\n",
       "    </tr>\n",
       "    <tr>\n",
       "      <th>ccdVisitId</th>\n",
       "      <th></th>\n",
       "      <th></th>\n",
       "      <th></th>\n",
       "      <th></th>\n",
       "      <th></th>\n",
       "      <th></th>\n",
       "      <th></th>\n",
       "      <th></th>\n",
       "      <th></th>\n",
       "      <th></th>\n",
       "      <th></th>\n",
       "      <th></th>\n",
       "      <th></th>\n",
       "      <th></th>\n",
       "      <th></th>\n",
       "      <th></th>\n",
       "      <th></th>\n",
       "      <th></th>\n",
       "      <th></th>\n",
       "      <th></th>\n",
       "      <th></th>\n",
       "    </tr>\n",
       "  </thead>\n",
       "  <tbody>\n",
       "    <tr>\n",
       "      <th>45508261120</th>\n",
       "      <td>2024110800245</td>\n",
       "      <td>i_06</td>\n",
       "      <td>i</td>\n",
       "      <td>53.004537</td>\n",
       "      <td>-28.190328</td>\n",
       "      <td>0.200356</td>\n",
       "      <td>15.811996</td>\n",
       "      <td>30.0</td>\n",
       "      <td>31.769550</td>\n",
       "      <td>1.835184</td>\n",
       "      <td>...</td>\n",
       "      <td>4071</td>\n",
       "      <td>3999</td>\n",
       "      <td>52.852323</td>\n",
       "      <td>-28.275736</td>\n",
       "      <td>52.910485</td>\n",
       "      <td>-28.054942</td>\n",
       "      <td>53.156327</td>\n",
       "      <td>-28.104874</td>\n",
       "      <td>53.098765</td>\n",
       "      <td>-28.325696</td>\n",
       "    </tr>\n",
       "    <tr>\n",
       "      <th>45508261121</th>\n",
       "      <td>2024110800245</td>\n",
       "      <td>i_06</td>\n",
       "      <td>i</td>\n",
       "      <td>53.064358</td>\n",
       "      <td>-27.961231</td>\n",
       "      <td>0.200288</td>\n",
       "      <td>15.809620</td>\n",
       "      <td>30.0</td>\n",
       "      <td>31.775599</td>\n",
       "      <td>1.750403</td>\n",
       "      <td>...</td>\n",
       "      <td>4071</td>\n",
       "      <td>3999</td>\n",
       "      <td>52.912533</td>\n",
       "      <td>-28.046431</td>\n",
       "      <td>52.970554</td>\n",
       "      <td>-27.825756</td>\n",
       "      <td>53.215825</td>\n",
       "      <td>-27.875895</td>\n",
       "      <td>53.158302</td>\n",
       "      <td>-28.096589</td>\n",
       "    </tr>\n",
       "    <tr>\n",
       "      <th>45508261122</th>\n",
       "      <td>2024110800245</td>\n",
       "      <td>i_06</td>\n",
       "      <td>i</td>\n",
       "      <td>53.123910</td>\n",
       "      <td>-27.731683</td>\n",
       "      <td>0.200355</td>\n",
       "      <td>15.810764</td>\n",
       "      <td>30.0</td>\n",
       "      <td>31.767769</td>\n",
       "      <td>1.796399</td>\n",
       "      <td>...</td>\n",
       "      <td>4071</td>\n",
       "      <td>3999</td>\n",
       "      <td>52.972637</td>\n",
       "      <td>-27.817115</td>\n",
       "      <td>53.029985</td>\n",
       "      <td>-27.596209</td>\n",
       "      <td>53.274899</td>\n",
       "      <td>-27.646056</td>\n",
       "      <td>53.217962</td>\n",
       "      <td>-27.866962</td>\n",
       "    </tr>\n",
       "    <tr>\n",
       "      <th>45508261123</th>\n",
       "      <td>2024110800245</td>\n",
       "      <td>i_06</td>\n",
       "      <td>i</td>\n",
       "      <td>53.264696</td>\n",
       "      <td>-28.242507</td>\n",
       "      <td>0.200287</td>\n",
       "      <td>15.576916</td>\n",
       "      <td>30.0</td>\n",
       "      <td>31.775053</td>\n",
       "      <td>1.826778</td>\n",
       "      <td>...</td>\n",
       "      <td>4071</td>\n",
       "      <td>3999</td>\n",
       "      <td>53.112842</td>\n",
       "      <td>-28.328206</td>\n",
       "      <td>53.170256</td>\n",
       "      <td>-28.107344</td>\n",
       "      <td>53.416240</td>\n",
       "      <td>-28.156722</td>\n",
       "      <td>53.359386</td>\n",
       "      <td>-28.377698</td>\n",
       "    </tr>\n",
       "    <tr>\n",
       "      <th>45508261124</th>\n",
       "      <td>2024110800245</td>\n",
       "      <td>i_06</td>\n",
       "      <td>i</td>\n",
       "      <td>53.323752</td>\n",
       "      <td>-28.013505</td>\n",
       "      <td>0.200225</td>\n",
       "      <td>15.574671</td>\n",
       "      <td>30.0</td>\n",
       "      <td>31.781845</td>\n",
       "      <td>1.718143</td>\n",
       "      <td>...</td>\n",
       "      <td>4071</td>\n",
       "      <td>3999</td>\n",
       "      <td>53.172286</td>\n",
       "      <td>-28.099118</td>\n",
       "      <td>53.229509</td>\n",
       "      <td>-27.878352</td>\n",
       "      <td>53.474975</td>\n",
       "      <td>-27.927736</td>\n",
       "      <td>53.418223</td>\n",
       "      <td>-28.148598</td>\n",
       "    </tr>\n",
       "    <tr>\n",
       "      <th>...</th>\n",
       "      <td>...</td>\n",
       "      <td>...</td>\n",
       "      <td>...</td>\n",
       "      <td>...</td>\n",
       "      <td>...</td>\n",
       "      <td>...</td>\n",
       "      <td>...</td>\n",
       "      <td>...</td>\n",
       "      <td>...</td>\n",
       "      <td>...</td>\n",
       "      <td>...</td>\n",
       "      <td>...</td>\n",
       "      <td>...</td>\n",
       "      <td>...</td>\n",
       "      <td>...</td>\n",
       "      <td>...</td>\n",
       "      <td>...</td>\n",
       "      <td>...</td>\n",
       "      <td>...</td>\n",
       "      <td>...</td>\n",
       "      <td>...</td>\n",
       "    </tr>\n",
       "    <tr>\n",
       "      <th>45785178884</th>\n",
       "      <td>2024121100611</td>\n",
       "      <td>r_03</td>\n",
       "      <td>r</td>\n",
       "      <td>106.365615</td>\n",
       "      <td>-10.479400</td>\n",
       "      <td>0.200265</td>\n",
       "      <td>35.501637</td>\n",
       "      <td>30.0</td>\n",
       "      <td>31.975525</td>\n",
       "      <td>1.656340</td>\n",
       "      <td>...</td>\n",
       "      <td>4071</td>\n",
       "      <td>3999</td>\n",
       "      <td>106.214867</td>\n",
       "      <td>-10.536264</td>\n",
       "      <td>106.310459</td>\n",
       "      <td>-10.330185</td>\n",
       "      <td>106.516319</td>\n",
       "      <td>-10.422468</td>\n",
       "      <td>106.420831</td>\n",
       "      <td>-10.628605</td>\n",
       "    </tr>\n",
       "    <tr>\n",
       "      <th>45785178885</th>\n",
       "      <td>2024121100611</td>\n",
       "      <td>r_03</td>\n",
       "      <td>r</td>\n",
       "      <td>106.464699</td>\n",
       "      <td>-10.265370</td>\n",
       "      <td>0.200328</td>\n",
       "      <td>35.558491</td>\n",
       "      <td>30.0</td>\n",
       "      <td>31.975042</td>\n",
       "      <td>1.653349</td>\n",
       "      <td>...</td>\n",
       "      <td>4071</td>\n",
       "      <td>3999</td>\n",
       "      <td>106.314055</td>\n",
       "      <td>-10.322266</td>\n",
       "      <td>106.409574</td>\n",
       "      <td>-10.116063</td>\n",
       "      <td>106.615364</td>\n",
       "      <td>-10.208352</td>\n",
       "      <td>106.519886</td>\n",
       "      <td>-10.414584</td>\n",
       "    </tr>\n",
       "    <tr>\n",
       "      <th>45785178886</th>\n",
       "      <td>2024121100611</td>\n",
       "      <td>r_03</td>\n",
       "      <td>r</td>\n",
       "      <td>106.484077</td>\n",
       "      <td>-10.790859</td>\n",
       "      <td>0.200398</td>\n",
       "      <td>35.217571</td>\n",
       "      <td>30.0</td>\n",
       "      <td>31.972706</td>\n",
       "      <td>1.630776</td>\n",
       "      <td>...</td>\n",
       "      <td>4071</td>\n",
       "      <td>3999</td>\n",
       "      <td>106.333109</td>\n",
       "      <td>-10.847719</td>\n",
       "      <td>106.428887</td>\n",
       "      <td>-10.641554</td>\n",
       "      <td>106.635009</td>\n",
       "      <td>-10.733979</td>\n",
       "      <td>106.539381</td>\n",
       "      <td>-10.940306</td>\n",
       "    </tr>\n",
       "    <tr>\n",
       "      <th>45785178887</th>\n",
       "      <td>2024121100611</td>\n",
       "      <td>r_03</td>\n",
       "      <td>r</td>\n",
       "      <td>106.583401</td>\n",
       "      <td>-10.576768</td>\n",
       "      <td>0.200328</td>\n",
       "      <td>35.273304</td>\n",
       "      <td>30.0</td>\n",
       "      <td>31.986546</td>\n",
       "      <td>1.636611</td>\n",
       "      <td>...</td>\n",
       "      <td>4071</td>\n",
       "      <td>3999</td>\n",
       "      <td>106.432613</td>\n",
       "      <td>-10.633695</td>\n",
       "      <td>106.528141</td>\n",
       "      <td>-10.427571</td>\n",
       "      <td>106.734220</td>\n",
       "      <td>-10.519772</td>\n",
       "      <td>106.638771</td>\n",
       "      <td>-10.726015</td>\n",
       "    </tr>\n",
       "    <tr>\n",
       "      <th>45785178888</th>\n",
       "      <td>2024121100611</td>\n",
       "      <td>r_03</td>\n",
       "      <td>r</td>\n",
       "      <td>106.682414</td>\n",
       "      <td>-10.362763</td>\n",
       "      <td>0.200398</td>\n",
       "      <td>35.330387</td>\n",
       "      <td>30.0</td>\n",
       "      <td>31.975039</td>\n",
       "      <td>1.627272</td>\n",
       "      <td>...</td>\n",
       "      <td>4071</td>\n",
       "      <td>3999</td>\n",
       "      <td>106.531735</td>\n",
       "      <td>-10.419889</td>\n",
       "      <td>106.627048</td>\n",
       "      <td>-10.213574</td>\n",
       "      <td>106.833195</td>\n",
       "      <td>-10.305510</td>\n",
       "      <td>106.737892</td>\n",
       "      <td>-10.511918</td>\n",
       "    </tr>\n",
       "  </tbody>\n",
       "</table>\n",
       "<p>16471 rows × 50 columns</p>\n",
       "</div>"
      ],
      "text/plain": [
       "                   visitId physical_filter band          ra        dec  \\\n",
       "ccdVisitId                                                               \n",
       "45508261120  2024110800245            i_06    i   53.004537 -28.190328   \n",
       "45508261121  2024110800245            i_06    i   53.064358 -27.961231   \n",
       "45508261122  2024110800245            i_06    i   53.123910 -27.731683   \n",
       "45508261123  2024110800245            i_06    i   53.264696 -28.242507   \n",
       "45508261124  2024110800245            i_06    i   53.323752 -28.013505   \n",
       "...                    ...             ...  ...         ...        ...   \n",
       "45785178884  2024121100611            r_03    r  106.365615 -10.479400   \n",
       "45785178885  2024121100611            r_03    r  106.464699 -10.265370   \n",
       "45785178886  2024121100611            r_03    r  106.484077 -10.790859   \n",
       "45785178887  2024121100611            r_03    r  106.583401 -10.576768   \n",
       "45785178888  2024121100611            r_03    r  106.682414 -10.362763   \n",
       "\n",
       "             pixelScale  zenithDistance  expTime  zeroPoint  psfSigma  ...  \\\n",
       "ccdVisitId                                                             ...   \n",
       "45508261120    0.200356       15.811996     30.0  31.769550  1.835184  ...   \n",
       "45508261121    0.200288       15.809620     30.0  31.775599  1.750403  ...   \n",
       "45508261122    0.200355       15.810764     30.0  31.767769  1.796399  ...   \n",
       "45508261123    0.200287       15.576916     30.0  31.775053  1.826778  ...   \n",
       "45508261124    0.200225       15.574671     30.0  31.781845  1.718143  ...   \n",
       "...                 ...             ...      ...        ...       ...  ...   \n",
       "45785178884    0.200265       35.501637     30.0  31.975525  1.656340  ...   \n",
       "45785178885    0.200328       35.558491     30.0  31.975042  1.653349  ...   \n",
       "45785178886    0.200398       35.217571     30.0  31.972706  1.630776  ...   \n",
       "45785178887    0.200328       35.273304     30.0  31.986546  1.636611  ...   \n",
       "45785178888    0.200398       35.330387     30.0  31.975039  1.627272  ...   \n",
       "\n",
       "             xSize  ySize       llcra     llcdec       ulcra     ulcdec  \\\n",
       "ccdVisitId                                                                \n",
       "45508261120   4071   3999   52.852323 -28.275736   52.910485 -28.054942   \n",
       "45508261121   4071   3999   52.912533 -28.046431   52.970554 -27.825756   \n",
       "45508261122   4071   3999   52.972637 -27.817115   53.029985 -27.596209   \n",
       "45508261123   4071   3999   53.112842 -28.328206   53.170256 -28.107344   \n",
       "45508261124   4071   3999   53.172286 -28.099118   53.229509 -27.878352   \n",
       "...            ...    ...         ...        ...         ...        ...   \n",
       "45785178884   4071   3999  106.214867 -10.536264  106.310459 -10.330185   \n",
       "45785178885   4071   3999  106.314055 -10.322266  106.409574 -10.116063   \n",
       "45785178886   4071   3999  106.333109 -10.847719  106.428887 -10.641554   \n",
       "45785178887   4071   3999  106.432613 -10.633695  106.528141 -10.427571   \n",
       "45785178888   4071   3999  106.531735 -10.419889  106.627048 -10.213574   \n",
       "\n",
       "                  urcra     urcdec       lrcra     lrcdec  \n",
       "ccdVisitId                                                 \n",
       "45508261120   53.156327 -28.104874   53.098765 -28.325696  \n",
       "45508261121   53.215825 -27.875895   53.158302 -28.096589  \n",
       "45508261122   53.274899 -27.646056   53.217962 -27.866962  \n",
       "45508261123   53.416240 -28.156722   53.359386 -28.377698  \n",
       "45508261124   53.474975 -27.927736   53.418223 -28.148598  \n",
       "...                 ...        ...         ...        ...  \n",
       "45785178884  106.516319 -10.422468  106.420831 -10.628605  \n",
       "45785178885  106.615364 -10.208352  106.519886 -10.414584  \n",
       "45785178886  106.635009 -10.733979  106.539381 -10.940306  \n",
       "45785178887  106.734220 -10.519772  106.638771 -10.726015  \n",
       "45785178888  106.833195 -10.305510  106.737892 -10.511918  \n",
       "\n",
       "[16471 rows x 50 columns]"
      ]
     },
     "execution_count": 10,
     "metadata": {},
     "output_type": "execute_result"
    }
   ],
   "source": [
    "ccd_visit_table"
   ]
  },
  {
   "cell_type": "code",
   "execution_count": null,
   "id": "60f81f57-9373-4449-8d14-fc514fce4ce8",
   "metadata": {},
   "outputs": [],
   "source": []
  },
  {
   "cell_type": "code",
   "execution_count": 5,
   "id": "7957ae35-514f-4b3c-847b-41f56c3150e0",
   "metadata": {
    "execution": {
     "iopub.execute_input": "2025-02-05T17:47:18.710307Z",
     "iopub.status.busy": "2025-02-05T17:47:18.709700Z",
     "iopub.status.idle": "2025-02-05T17:47:18.827155Z",
     "shell.execute_reply": "2025-02-05T17:47:18.826767Z",
     "shell.execute_reply.started": "2025-02-05T17:47:18.710281Z"
    }
   },
   "outputs": [
    {
     "data": {
      "text/plain": [
       "<matplotlib.collections.PathCollection at 0x7f9c0d64e8d0>"
      ]
     },
     "execution_count": 5,
     "metadata": {},
     "output_type": "execute_result"
    },
    {
     "data": {
      "image/png": "[encoded data removed]",
      "text/plain": [
       "<Figure size 640x480 with 1 Axes>"
      ]
     },
     "metadata": {},
     "output_type": "display_data"
    }
   ],
   "source": [
    "plt.scatter(ccd_visit_table['band'],ccd_visit_table[\"expTime\"])\n",
    "#plt.yscale('log')"
   ]
  },
  {
   "cell_type": "code",
   "execution_count": 35,
   "id": "7302a639-d92c-4379-9609-b5facd447166",
   "metadata": {
    "execution": {
     "iopub.execute_input": "2024-11-20T15:28:08.776846Z",
     "iopub.status.busy": "2024-11-20T15:28:08.776504Z",
     "iopub.status.idle": "2024-11-20T15:28:08.779980Z",
     "shell.execute_reply": "2024-11-20T15:28:08.779655Z",
     "shell.execute_reply.started": "2024-11-20T15:28:08.776831Z"
    }
   },
   "outputs": [],
   "source": [
    "from lsst.analysis.tools.actions.vector import VisitPlotFlagSelector, SnSelector, StarSelector, MagSelector, ConvertFluxToMag\n",
    "vpfs=VisitPlotFlagSelector()\n",
    "sns=SnSelector(fluxType=\"psfFlux\",threshold=100)\n",
    "sts=StarSelector(vectorKey=\"extendedness\")\n",
    "mgs=MagSelector(fluxType=\"psfFlux\", maxMag=20)"
   ]
  },
  {
   "cell_type": "code",
   "execution_count": 41,
   "id": "32c832f4-8ef6-4dd5-b06e-d4ee02f3c1d8",
   "metadata": {
    "execution": {
     "iopub.execute_input": "2024-11-20T15:30:42.943108Z",
     "iopub.status.busy": "2024-11-20T15:30:42.942790Z",
     "iopub.status.idle": "2024-11-20T15:30:43.095356Z",
     "shell.execute_reply": "2024-11-20T15:30:43.095006Z",
     "shell.execute_reply.started": "2024-11-20T15:30:42.943085Z"
    }
   },
   "outputs": [],
   "source": [
    "bs_dict={}\n",
    "np.random.seed(31415)\n",
    "for exptime in [30,15,10]:\n",
    "    visit = np.random.choice(ccd_visit_table.loc[ccd_visit_table[\"expTime\"] == exptime, 'visitId'], 1, replace=False)[0]\n",
    "    bs_dict[f\"ref_{exptime}\"] = butler.query_datasets('sourceTable_visit', data_id={'visit':visit})[0]\n",
    "    st= butler.get(bs_dict[f\"ref_{exptime}\"])\n",
    "    sel=None\n",
    "    for selector in [vpfs,sns,sts,mgs]:\n",
    "        if sel is None:\n",
    "            sel = selector(st)\n",
    "        else:\n",
    "            sel &= selector(st)\n",
    "    \n",
    "    bs_dict[f\"st_{exptime}\"] = st[sel]"
   ]
  },
  {
   "cell_type": "code",
   "execution_count": 67,
   "id": "75c1f0c2-b01a-4d4f-9dd6-a399cf7541f3",
   "metadata": {
    "execution": {
     "iopub.execute_input": "2024-11-20T18:00:15.567719Z",
     "iopub.status.busy": "2024-11-20T18:00:15.567439Z",
     "iopub.status.idle": "2024-11-20T18:00:15.954858Z",
     "shell.execute_reply": "2024-11-20T18:00:15.954390Z",
     "shell.execute_reply.started": "2024-11-20T18:00:15.567704Z"
    }
   },
   "outputs": [],
   "source": [
    "monster_refs=None\n",
    "for exptime in [30,15,10]:\n",
    "    if monster_refs is None:\n",
    "        monster_refs = butler.query_datasets('the_monster_20240904', data_id=bs_dict[f\"ref_{exptime}\"].dataId)\n",
    "    else:\n",
    "        monster_refs += butler.query_datasets('the_monster_20240904', data_id=bs_dict[f\"ref_{exptime}\"].dataId)\n",
    "monster_refs = np.unique(monster_refs)\n",
    "ref_cat=None\n",
    "for ref in monster_refs:\n",
    "    if ref_cat == None:\n",
    "        tmp = butler.get(ref)\n",
    "        ref_cat = SimpleCatalog(tmp.schema)\n",
    "        ref_cat.extend(tmp)\n",
    "    else: \n",
    "        ref_cat.extend(butler.get(ref))\n"
   ]
  },
  {
   "cell_type": "code",
   "execution_count": 69,
   "id": "51a7bc61-711f-42a3-b198-0cbb992afe2b",
   "metadata": {
    "execution": {
     "iopub.execute_input": "2024-11-20T18:01:43.685512Z",
     "iopub.status.busy": "2024-11-20T18:01:43.685162Z",
     "iopub.status.idle": "2024-11-20T18:01:44.126731Z",
     "shell.execute_reply": "2024-11-20T18:01:44.126281Z",
     "shell.execute_reply.started": "2024-11-20T18:01:43.685492Z"
    }
   },
   "outputs": [],
   "source": [
    "for exptime in [30,15,10]:\n",
    "    bs_dict[f\"match_{exptime}\"]=match(ra1=bs_dict[f\"st_{exptime}\"][\"coord_ra\"], \n",
    "          dec1=bs_dict[f\"st_{exptime}\"]['coord_dec'], \n",
    "          ra2=np.degrees(ref_cat['coord_ra']), \n",
    "          dec2=np.degrees(ref_cat['coord_dec']), \n",
    "          radius1=0.25)"
   ]
  },
  {
   "cell_type": "code",
   "execution_count": 73,
   "id": "2586e34f-bed0-43a4-bda2-8ebe98a9743c",
   "metadata": {
    "execution": {
     "iopub.execute_input": "2024-11-20T18:03:38.212476Z",
     "iopub.status.busy": "2024-11-20T18:03:38.212178Z",
     "iopub.status.idle": "2024-11-20T18:03:38.214898Z",
     "shell.execute_reply": "2024-11-20T18:03:38.214532Z",
     "shell.execute_reply.started": "2024-11-20T18:03:38.212460Z"
    }
   },
   "outputs": [],
   "source": []
  },
  {
   "cell_type": "code",
   "execution_count": 82,
   "id": "49188119-cdd4-4267-8e7c-e5324d01dfdf",
   "metadata": {
    "execution": {
     "iopub.execute_input": "2024-11-20T18:11:43.140013Z",
     "iopub.status.busy": "2024-11-20T18:11:43.139671Z",
     "iopub.status.idle": "2024-11-20T18:11:43.143574Z",
     "shell.execute_reply": "2024-11-20T18:11:43.143218Z",
     "shell.execute_reply.started": "2024-11-20T18:11:43.139997Z"
    }
   },
   "outputs": [],
   "source": [
    "def convert_to_mag(flux):\n",
    "    flux = np.asarray(flux)\n",
    "    return (flux * u.nJy).to(u.ABmag).value\n",
    "ref_cat_mag = convert_to_mag(ref_cat[\"monster_SynthLSST_r_flux\"])\n",
    "ref_cat_flux = ref_cat[\"monster_SynthLSST_r_flux\"]"
   ]
  },
  {
   "cell_type": "code",
   "execution_count": 83,
   "id": "6a60c01e-ed18-4cb5-98b7-c8c9f0cd2dac",
   "metadata": {
    "execution": {
     "iopub.execute_input": "2024-11-20T18:11:44.218164Z",
     "iopub.status.busy": "2024-11-20T18:11:44.217854Z",
     "iopub.status.idle": "2024-11-20T18:11:44.222271Z",
     "shell.execute_reply": "2024-11-20T18:11:44.221893Z",
     "shell.execute_reply.started": "2024-11-20T18:11:44.218150Z"
    }
   },
   "outputs": [],
   "source": [
    "for exptime in [30,15,10]:\n",
    "    bs_dict[f'st_{exptime}']['psfMag']=cfm(bs_dict[f'st_{exptime}'])\n",
    "    bs_dict[f\"bright_val_{exptime}\"] = np.percentile(bs_dict[f'st_{exptime}']['psfMag'], [1])[0]"
   ]
  },
  {
   "cell_type": "code",
   "execution_count": 108,
   "id": "79bc21c2-f0e4-43fe-b5b5-09866109751c",
   "metadata": {
    "execution": {
     "iopub.execute_input": "2024-11-20T18:51:53.015664Z",
     "iopub.status.busy": "2024-11-20T18:51:53.015382Z",
     "iopub.status.idle": "2024-11-20T18:51:53.249938Z",
     "shell.execute_reply": "2024-11-20T18:51:53.249620Z",
     "shell.execute_reply.started": "2024-11-20T18:51:53.015649Z"
    }
   },
   "outputs": [
    {
     "data": {
      "text/plain": [
       "[(13.0, 20.0),\n",
       " (0.95, 1.1),\n",
       " Text(0.5, 0, 'monster_SynthLSST_r_mag'),\n",
       " Text(0, 0.5, 'r_psfFlux/monster_SynthLSST_r_flux')]"
      ]
     },
     "execution_count": 108,
     "metadata": {},
     "output_type": "execute_result"
    },
    {
     "data": {
      "image/png": "[encoded data removed]",
      "text/plain": [
       "<Figure size 800x600 with 1 Axes>"
      ]
     },
     "metadata": {},
     "output_type": "display_data"
    }
   ],
   "source": [
    "fig, ax= plt.subplots(1, dpi=125)\n",
    "clist=[\"tab:blue\",\"tab:orange\",\"tab:green\"]\n",
    "ax.set_title(\"Bright limit of 3 exposures in\\n LSSTComCam/runs/DRP/20241101_20241113/w_2024_46/DM-47566\")\n",
    "for i,exptime in enumerate([30,15,10]):\n",
    "    ref_sel = bs_dict[f\"match_{exptime}\"]['i2']\n",
    "    st_sel = bs_dict[f\"match_{exptime}\"]['i1']\n",
    "    ax.scatter(ref_cat_mag[ref_sel], \n",
    "               bs_dict[f'st_{exptime}']['psfFlux'].values[st_sel]/ref_cat_flux[ref_sel], \n",
    "               label=f\"{exptime} s visit bright_lim={bs_dict[f'bright_val_{exptime}']:0.1f}\", \n",
    "               s=2, c=clist[i], alpha=0.5)\n",
    "    #medians=medfilt(bs_dict[f'st_{exptime}']['psfFlux'].values[st_sel]/ref_cat_flux[ref_sel], 21)\n",
    "    #ax.plot(ref_cat_mag[ref_sel], medians, c=clist[i])\n",
    "    ax.axvline(bs_dict[f\"bright_val_{exptime}\"], ls=\"dashed\", c=clist[i])\n",
    "ax.axhline(1, c=\"k\", ls=\"dashed\")\n",
    "plt.legend()\n",
    "ax.set(xlim=(13,20), ylim=(0.95,1.1), xlabel=\"monster_SynthLSST_r_mag\", ylabel=\"r_psfFlux/monster_SynthLSST_r_flux\")\n"
   ]
  },
  {
   "cell_type": "code",
   "execution_count": 56,
   "id": "8b4908d5-9143-48f9-89ea-070822ed457d",
   "metadata": {
    "execution": {
     "iopub.execute_input": "2024-11-20T15:44:40.004647Z",
     "iopub.status.busy": "2024-11-20T15:44:40.004371Z",
     "iopub.status.idle": "2024-11-20T15:44:40.006987Z",
     "shell.execute_reply": "2024-11-20T15:44:40.006630Z",
     "shell.execute_reply.started": "2024-11-20T15:44:40.004632Z"
    }
   },
   "outputs": [],
   "source": [
    "from lsst.meas.algorithms import LoadReferenceObjectsConfig, ReferenceObjectLoader"
   ]
  },
  {
   "cell_type": "code",
   "execution_count": 60,
   "id": "ab1dbb7c-ccac-4acf-880c-f73786625a01",
   "metadata": {
    "execution": {
     "iopub.execute_input": "2024-11-20T15:46:42.979876Z",
     "iopub.status.busy": "2024-11-20T15:46:42.979581Z",
     "iopub.status.idle": "2024-11-20T15:46:42.983273Z",
     "shell.execute_reply": "2024-11-20T15:46:42.982870Z",
     "shell.execute_reply.started": "2024-11-20T15:46:42.979861Z"
    }
   },
   "outputs": [],
   "source": [
    "filterMap={}\n",
    "for source, target in [\n",
    "    (\"empty\", \"monster_SynthLSST_r\"),\n",
    "    (\"white\", \"monster_SynthLSST_r\"),\n",
    "    (\"u_02\", \"monster_SynthLSST_u\"),\n",
    "    (\"u_05\", \"monster_SynthLSST_u\"),\n",
    "    (\"u_06\", \"monster_SynthLSST_u\"),\n",
    "    (\"g_01\", \"monster_SynthLSST_g\"),\n",
    "    (\"g_07\", \"monster_SynthLSST_g\"),\n",
    "    (\"r_03\", \"monster_SynthLSST_r\"),\n",
    "    (\"i_06\", \"monster_SynthLSST_i\"),\n",
    "    (\"z_02\", \"monster_SynthLSST_z\"),\n",
    "    (\"z_03\", \"monster_SynthLSST_z\"),\n",
    "    (\"y_04\", \"monster_SynthLSST_y\"),\n",
    "    (\"u\", \"monster_SynthLSST_u\"),\n",
    "    (\"g\", \"monster_SynthLSST_g\"),\n",
    "    (\"r\", \"monster_SynthLSST_r\"),\n",
    "    (\"i\", \"monster_SynthLSST_i\"),\n",
    "    (\"z\", \"monster_SynthLSST_z\"),\n",
    "    (\"y\", \"monster_SynthLSST_y\"),\n",
    "]:\n",
    "    filterMap[source] = target"
   ]
  },
  {
   "cell_type": "code",
   "execution_count": 61,
   "id": "66770072-7965-409f-bcee-ffee937c2e57",
   "metadata": {
    "execution": {
     "iopub.execute_input": "2024-11-20T15:46:56.827349Z",
     "iopub.status.busy": "2024-11-20T15:46:56.827039Z",
     "iopub.status.idle": "2024-11-20T15:46:56.830695Z",
     "shell.execute_reply": "2024-11-20T15:46:56.830350Z",
     "shell.execute_reply.started": "2024-11-20T15:46:56.827335Z"
    }
   },
   "outputs": [
    {
     "data": {
      "text/plain": [
       "lsst.meas.algorithms.loadReferenceObjects.LoadReferenceObjectsConfig(pixelMargin=250, filterMap={'empty': 'monster_SynthLSST_r', 'white': 'monster_SynthLSST_r', 'u_02': 'monster_SynthLSST_u', 'u_05': 'monster_SynthLSST_u', 'u_06': 'monster_SynthLSST_u', 'g_01': 'monster_SynthLSST_g', 'g_07': 'monster_SynthLSST_g', 'r_03': 'monster_SynthLSST_r', 'i_06': 'monster_SynthLSST_i', 'z_02': 'monster_SynthLSST_z', 'z_03': 'monster_SynthLSST_z', 'y_04': 'monster_SynthLSST_y', 'u': 'monster_SynthLSST_u', 'g': 'monster_SynthLSST_g', 'r': 'monster_SynthLSST_r', 'i': 'monster_SynthLSST_i', 'z': 'monster_SynthLSST_z', 'y': 'monster_SynthLSST_y'}, requireProperMotion=False)"
      ]
     },
     "execution_count": 61,
     "metadata": {},
     "output_type": "execute_result"
    }
   ],
   "source": [
    "LoadReferenceObjectsConfig(filterMap=filterMap)"
   ]
  },
  {
   "cell_type": "code",
   "execution_count": 14,
   "id": "98498f27-5217-4598-ad0e-1211e616f0d2",
   "metadata": {
    "execution": {
     "iopub.execute_input": "2024-11-20T15:19:38.519574Z",
     "iopub.status.busy": "2024-11-20T15:19:38.519342Z",
     "iopub.status.idle": "2024-11-20T15:19:38.522511Z",
     "shell.execute_reply": "2024-11-20T15:19:38.522120Z",
     "shell.execute_reply.started": "2024-11-20T15:19:38.519556Z"
    }
   },
   "outputs": [],
   "source": []
  },
  {
   "cell_type": "code",
   "execution_count": 48,
   "id": "17b83c21-9397-4268-a204-1e1478f196ea",
   "metadata": {
    "execution": {
     "iopub.execute_input": "2024-11-20T15:31:12.969274Z",
     "iopub.status.busy": "2024-11-20T15:31:12.968966Z",
     "iopub.status.idle": "2024-11-20T15:31:12.971737Z",
     "shell.execute_reply": "2024-11-20T15:31:12.971356Z",
     "shell.execute_reply.started": "2024-11-20T15:31:12.969258Z"
    }
   },
   "outputs": [],
   "source": [
    "\n",
    "st= bs_dict[\"st_10\"]\n"
   ]
  },
  {
   "cell_type": "code",
   "execution_count": 49,
   "id": "348bc2a2-4742-4d37-814e-a4371ca64fcb",
   "metadata": {
    "execution": {
     "iopub.execute_input": "2024-11-20T15:31:14.453942Z",
     "iopub.status.busy": "2024-11-20T15:31:14.453501Z",
     "iopub.status.idle": "2024-11-20T15:31:14.456850Z",
     "shell.execute_reply": "2024-11-20T15:31:14.456485Z",
     "shell.execute_reply.started": "2024-11-20T15:31:14.453928Z"
    }
   },
   "outputs": [
    {
     "data": {
      "text/plain": [
       "(580, 165)"
      ]
     },
     "execution_count": 49,
     "metadata": {},
     "output_type": "execute_result"
    }
   ],
   "source": [
    "st.shape"
   ]
  },
  {
   "cell_type": "code",
   "execution_count": 36,
   "id": "8d67dec5-8857-45ec-b72e-ea350aa1c50e",
   "metadata": {
    "execution": {
     "iopub.execute_input": "2024-11-20T15:28:13.933730Z",
     "iopub.status.busy": "2024-11-20T15:28:13.933404Z",
     "iopub.status.idle": "2024-11-20T15:28:13.937221Z",
     "shell.execute_reply": "2024-11-20T15:28:13.936876Z",
     "shell.execute_reply.started": "2024-11-20T15:28:13.933714Z"
    }
   },
   "outputs": [
    {
     "data": {
      "text/plain": [
       "1271"
      ]
     },
     "execution_count": 36,
     "metadata": {},
     "output_type": "execute_result"
    }
   ],
   "source": [
    "sns(bs_dict[\"st_30\"]).sum()"
   ]
  },
  {
   "cell_type": "code",
   "execution_count": 9,
   "id": "6ef0419e-d132-494f-b1f9-1d1347408307",
   "metadata": {
    "execution": {
     "iopub.execute_input": "2024-11-20T15:18:53.784910Z",
     "iopub.status.busy": "2024-11-20T15:18:53.784415Z",
     "iopub.status.idle": "2024-11-20T15:18:53.803549Z",
     "shell.execute_reply": "2024-11-20T15:18:53.803178Z",
     "shell.execute_reply.started": "2024-11-20T15:18:53.784896Z"
    }
   },
   "outputs": [
    {
     "data": {
      "text/plain": [
       "{'ref_30': DatasetRef(DatasetType('sourceTable_visit', {band, instrument, day_obs, physical_filter, visit}, DataFrame), {instrument: 'LSSTComCam', visit: 2024111100090, band: 'r', day_obs: 20241111, physical_filter: 'r_03'}, run='LSSTComCam/runs/DRP/20241101_20241113/w_2024_46/DM-47566/20241115T150602Z', id=3f8671ea-0bce-4f4e-acc2-25110e11c7bd),\n",
       " 'st_30':                      coord_ra  coord_dec          visit  detector  \\\n",
       " sourceId                                                            \n",
       " 190980868334944257  53.474701 -27.669404  2024111100090         0   \n",
       " 190980868334944258  53.497632 -27.745711  2024111100090         0   \n",
       " 190980868334944259  53.507631 -27.778843  2024111100090         0   \n",
       " 190980868334944260  53.517198 -27.812246  2024111100090         0   \n",
       " 190980868334944261  53.507223 -27.780521  2024111100090         0   \n",
       " ...                       ...        ...            ...       ...   \n",
       " 190980868368500370  52.856821 -28.301990  2024111100090         8   \n",
       " 190980868368500371  52.857377 -28.302721  2024111100090         8   \n",
       " 190980868368500372  52.837162 -28.243737  2024111100090         8   \n",
       " 190980868368500373  52.838162 -28.244023  2024111100090         8   \n",
       " 190980868368500374  52.836370 -28.244150  2024111100090         8   \n",
       " \n",
       "                         parentSourceId            x            y      xErr  \\\n",
       " sourceId                                                                     \n",
       " 190980868334944257                   0  1257.000000     9.000000       NaN   \n",
       " 190980868334944258                   0  2675.000000    10.000000       NaN   \n",
       " 190980868334944259                   0  3291.000000    10.000000  0.368739   \n",
       " 190980868334944260                   0  3910.000000    18.000000       NaN   \n",
       " 190980868334944261                   0  3318.435593    24.045296  1.686170   \n",
       " ...                                ...          ...          ...       ...   \n",
       " 190980868368500370  190980868368499953  1278.157528  3939.356146  0.467741   \n",
       " 190980868368500371  190980868368499953  1293.088601  3934.185810  0.611702   \n",
       " 190980868368500372  190980868368499964   187.000000  3975.000000  0.654646   \n",
       " 190980868368500373  190980868368499964   196.000000  3961.000000  0.971407   \n",
       " 190980868368500374  190980868368499964   191.000000  3989.000000       NaN   \n",
       " \n",
       "                          yErr         ra  ...  iDebiasedPSF_flag_edge  \\\n",
       " sourceId                                  ...                           \n",
       " 190980868334944257        NaN  53.474701  ...                    True   \n",
       " 190980868334944258        NaN  53.497632  ...                    True   \n",
       " 190980868334944259  95.038689  53.507631  ...                    True   \n",
       " 190980868334944260        NaN  53.517198  ...                    True   \n",
       " 190980868334944261   0.841734  53.507223  ...                   False   \n",
       " ...                       ...        ...  ...                     ...   \n",
       " 190980868368500370   0.658081  52.856821  ...                   False   \n",
       " 190980868368500371   1.380897  52.857377  ...                   False   \n",
       " 190980868368500372   2.326573  52.837162  ...                   False   \n",
       " 190980868368500373   8.856236  52.838162  ...                   False   \n",
       " 190980868368500374        NaN  52.836370  ...                    True   \n",
       " \n",
       "                     hsmShapeRegauss_flag  hsmShapeRegauss_flag_galsim  \\\n",
       " sourceId                                                                \n",
       " 190980868334944257                 False                        False   \n",
       " 190980868334944258                  True                        False   \n",
       " 190980868334944259                 False                        False   \n",
       " 190980868334944260                 False                        False   \n",
       " 190980868334944261                 False                        False   \n",
       " ...                                  ...                          ...   \n",
       " 190980868368500370                 False                        False   \n",
       " 190980868368500371                  True                        False   \n",
       " 190980868368500372                 False                        False   \n",
       " 190980868368500373                 False                        False   \n",
       " 190980868368500374                 False                        False   \n",
       " \n",
       "                     hsmShapeRegauss_flag_no_pixels  \\\n",
       " sourceId                                             \n",
       " 190980868334944257                           False   \n",
       " 190980868334944258                           False   \n",
       " 190980868334944259                           False   \n",
       " 190980868334944260                           False   \n",
       " 190980868334944261                           False   \n",
       " ...                                            ...   \n",
       " 190980868368500370                           False   \n",
       " 190980868368500371                           False   \n",
       " 190980868368500372                           False   \n",
       " 190980868368500373                           False   \n",
       " 190980868368500374                           False   \n",
       " \n",
       "                     hsmShapeRegauss_flag_not_contained  \\\n",
       " sourceId                                                 \n",
       " 190980868334944257                               False   \n",
       " 190980868334944258                               False   \n",
       " 190980868334944259                               False   \n",
       " 190980868334944260                               False   \n",
       " 190980868334944261                               False   \n",
       " ...                                                ...   \n",
       " 190980868368500370                               False   \n",
       " 190980868368500371                               False   \n",
       " 190980868368500372                               False   \n",
       " 190980868368500373                               False   \n",
       " 190980868368500374                               False   \n",
       " \n",
       "                     hsmShapeRegauss_flag_parent_source  sky_source  \\\n",
       " sourceId                                                             \n",
       " 190980868334944257                               False       False   \n",
       " 190980868334944258                               False       False   \n",
       " 190980868334944259                               False       False   \n",
       " 190980868334944260                               False       False   \n",
       " 190980868334944261                               False       False   \n",
       " ...                                                ...         ...   \n",
       " 190980868368500370                               False       False   \n",
       " 190980868368500371                               False       False   \n",
       " 190980868368500372                               False       False   \n",
       " 190980868368500373                               False       False   \n",
       " 190980868368500374                               False       False   \n",
       " \n",
       "                     detect_isPrimary  band  physical_filter  \n",
       " sourceId                                                     \n",
       " 190980868334944257              True     r             r_03  \n",
       " 190980868334944258              True     r             r_03  \n",
       " 190980868334944259              True     r             r_03  \n",
       " 190980868334944260              True     r             r_03  \n",
       " 190980868334944261              True     r             r_03  \n",
       " ...                              ...   ...              ...  \n",
       " 190980868368500370              True     r             r_03  \n",
       " 190980868368500371              True     r             r_03  \n",
       " 190980868368500372              True     r             r_03  \n",
       " 190980868368500373              True     r             r_03  \n",
       " 190980868368500374              True     r             r_03  \n",
       " \n",
       " [13961 rows x 165 columns],\n",
       " 'ref_15': DatasetRef(DatasetType('sourceTable_visit', {band, instrument, day_obs, physical_filter, visit}, DataFrame), {instrument: 'LSSTComCam', visit: 2024110500225, band: 'r', day_obs: 20241105, physical_filter: 'r_03'}, run='LSSTComCam/runs/DRP/20241101_20241113/w_2024_46/DM-47566/20241115T150602Z', id=2d7fc1d6-ce99-4d56-b8ea-469416471724),\n",
       " 'st_15':                      coord_ra  coord_dec          visit  detector  \\\n",
       " sourceId                                                            \n",
       " 190769907057557505  59.493251 -21.346922  2024110500225         0   \n",
       " 190769907057557506  59.534482 -21.270053  2024110500225         0   \n",
       " 190769907057557507  59.550389 -21.241373  2024110500225         0   \n",
       " 190769907057557508  59.561866 -21.219265  2024110500225         0   \n",
       " 190769907057557509  59.529870 -21.280153  2024110500225         0   \n",
       " ...                       ...        ...            ...       ...   \n",
       " 190769907091113609  60.421754 -21.151713  2024110500225         8   \n",
       " 190769907091113610  60.403365 -21.190776  2024110500225         8   \n",
       " 190769907091113611  60.402452 -21.190922  2024110500225         8   \n",
       " 190769907091113612  60.369488 -21.253912  2024110500225         8   \n",
       " 190769907091113613  60.370639 -21.253991  2024110500225         8   \n",
       " \n",
       "                         parentSourceId            x            y      xErr  \\\n",
       " sourceId                                                                     \n",
       " 190769907057557505                   0   931.000000    15.000000       NaN   \n",
       " 190769907057557506                   0  2474.000000    11.000000       NaN   \n",
       " 190769907057557507                   0  3053.839912    17.586440  0.987315   \n",
       " 190769907057557508                   0  3495.000000    11.000000       NaN   \n",
       " 190769907057557509                   0  2277.249842    23.510745  0.031081   \n",
       " ...                                ...          ...          ...       ...   \n",
       " 190769907091113609  190769907091113159  2550.000000  3909.000000  0.815050   \n",
       " 190769907091113610  190769907091113165  1784.608833  3944.300543  0.130141   \n",
       " 190769907091113611  190769907091113165  1775.485193  3931.763712  0.686384   \n",
       " 190769907091113612  190769907091113169   516.543731  3939.279721  0.437420   \n",
       " 190769907091113613  190769907091113169   523.811436  3957.165889  0.699973   \n",
       " \n",
       "                         yErr         ra  ...  iDebiasedPSF_flag_edge  \\\n",
       " sourceId                                 ...                           \n",
       " 190769907057557505       NaN  59.493251  ...                    True   \n",
       " 190769907057557506       NaN  59.534482  ...                    True   \n",
       " 190769907057557507  0.755343  59.550389  ...                    True   \n",
       " 190769907057557508       NaN  59.561866  ...                    True   \n",
       " 190769907057557509  0.048564  59.529870  ...                   False   \n",
       " ...                      ...        ...  ...                     ...   \n",
       " 190769907091113609  2.555183  60.421754  ...                   False   \n",
       " 190769907091113610  0.197644  60.403365  ...                   False   \n",
       " 190769907091113611  0.669998  60.402452  ...                   False   \n",
       " 190769907091113612  0.484046  60.369488  ...                   False   \n",
       " 190769907091113613  0.861854  60.370639  ...                   False   \n",
       " \n",
       "                     hsmShapeRegauss_flag  hsmShapeRegauss_flag_galsim  \\\n",
       " sourceId                                                                \n",
       " 190769907057557505                  True                        False   \n",
       " 190769907057557506                 False                        False   \n",
       " 190769907057557507                 False                        False   \n",
       " 190769907057557508                 False                        False   \n",
       " 190769907057557509                 False                        False   \n",
       " ...                                  ...                          ...   \n",
       " 190769907091113609                 False                        False   \n",
       " 190769907091113610                  True                        False   \n",
       " 190769907091113611                 False                        False   \n",
       " 190769907091113612                 False                        False   \n",
       " 190769907091113613                 False                        False   \n",
       " \n",
       "                     hsmShapeRegauss_flag_no_pixels  \\\n",
       " sourceId                                             \n",
       " 190769907057557505                           False   \n",
       " 190769907057557506                           False   \n",
       " 190769907057557507                           False   \n",
       " 190769907057557508                           False   \n",
       " 190769907057557509                           False   \n",
       " ...                                            ...   \n",
       " 190769907091113609                           False   \n",
       " 190769907091113610                           False   \n",
       " 190769907091113611                           False   \n",
       " 190769907091113612                           False   \n",
       " 190769907091113613                           False   \n",
       " \n",
       "                     hsmShapeRegauss_flag_not_contained  \\\n",
       " sourceId                                                 \n",
       " 190769907057557505                               False   \n",
       " 190769907057557506                               False   \n",
       " 190769907057557507                               False   \n",
       " 190769907057557508                               False   \n",
       " 190769907057557509                               False   \n",
       " ...                                                ...   \n",
       " 190769907091113609                               False   \n",
       " 190769907091113610                               False   \n",
       " 190769907091113611                               False   \n",
       " 190769907091113612                               False   \n",
       " 190769907091113613                               False   \n",
       " \n",
       "                     hsmShapeRegauss_flag_parent_source  sky_source  \\\n",
       " sourceId                                                             \n",
       " 190769907057557505                               False       False   \n",
       " 190769907057557506                               False       False   \n",
       " 190769907057557507                               False       False   \n",
       " 190769907057557508                               False       False   \n",
       " 190769907057557509                               False       False   \n",
       " ...                                                ...         ...   \n",
       " 190769907091113609                               False       False   \n",
       " 190769907091113610                               False       False   \n",
       " 190769907091113611                               False       False   \n",
       " 190769907091113612                               False       False   \n",
       " 190769907091113613                               False       False   \n",
       " \n",
       "                     detect_isPrimary  band  physical_filter  \n",
       " sourceId                                                     \n",
       " 190769907057557505              True     r             r_03  \n",
       " 190769907057557506              True     r             r_03  \n",
       " 190769907057557507              True     r             r_03  \n",
       " 190769907057557508              True     r             r_03  \n",
       " 190769907057557509              True     r             r_03  \n",
       " ...                              ...   ...              ...  \n",
       " 190769907091113609              True     r             r_03  \n",
       " 190769907091113610              True     r             r_03  \n",
       " 190769907091113611              True     r             r_03  \n",
       " 190769907091113612              True     r             r_03  \n",
       " 190769907091113613              True     r             r_03  \n",
       " \n",
       " [16072 rows x 165 columns],\n",
       " 'ref_10': DatasetRef(DatasetType('sourceTable_visit', {band, instrument, day_obs, physical_filter, visit}, DataFrame), {instrument: 'LSSTComCam', visit: 2024110600179, band: 'r', day_obs: 20241106, physical_filter: 'r_03'}, run='LSSTComCam/runs/DRP/20241101_20241113/w_2024_46/DM-47566/20241115T150602Z', id=7126a215-8a20-4ba6-bb39-6126a0a18d13),\n",
       " 'st_10':                      coord_ra  coord_dec          visit  detector  \\\n",
       " sourceId                                                            \n",
       " 190805042037522433  24.673371 -23.030712  2024110600179         0   \n",
       " 190805042037522434  24.685320 -23.006223  2024110600179         0   \n",
       " 190805042037522435  24.742810 -22.888894  2024110600179         0   \n",
       " 190805042037522436  24.748898 -22.879973  2024110600179         0   \n",
       " 190805042037522437  24.730013 -22.916793  2024110600179         0   \n",
       " ...                       ...        ...            ...       ...   \n",
       " 190805042071078172  25.590890 -22.809291  2024110600179         8   \n",
       " 190805042071078173  25.591345 -22.808400  2024110600179         8   \n",
       " 190805042071078174  25.647608 -22.709708  2024110600179         8   \n",
       " 190805042071078175  25.651011 -22.708536  2024110600179         8   \n",
       " 190805042071078176  25.649902 -22.705344  2024110600179         8   \n",
       " \n",
       "                         parentSourceId            x            y      xErr  \\\n",
       " sourceId                                                                     \n",
       " 190805042037522433                   0   540.000000    12.000000       NaN   \n",
       " 190805042037522434                   0  1022.000000    11.000000       NaN   \n",
       " 190805042037522435                   0  3334.000000    11.000000       NaN   \n",
       " 190805042037522436                   0  3521.523068    36.977205  0.012515   \n",
       " 190805042037522437                   0  2790.000000    24.000000       NaN   \n",
       " ...                                ...          ...          ...       ...   \n",
       " 190805042071078172  190805042071077831  1911.832708  3795.960465  0.202518   \n",
       " 190805042071078173  190805042071077831  1929.513649  3796.357024  0.711368   \n",
       " 190805042071078174  190805042071077862  3927.000000  3930.000000  2.039453   \n",
       " 190805042071078175  190805042071077862  3969.000000  3973.000000       NaN   \n",
       " 190805042071078176  190805042071077862  4014.000000  3933.000000  0.645875   \n",
       " \n",
       "                         yErr         ra  ...  iDebiasedPSF_flag_edge  \\\n",
       " sourceId                                 ...                           \n",
       " 190805042037522433       NaN  24.673371  ...                    True   \n",
       " 190805042037522434       NaN  24.685320  ...                    True   \n",
       " 190805042037522435       NaN  24.742810  ...                    True   \n",
       " 190805042037522436  0.020083  24.748898  ...                   False   \n",
       " 190805042037522437       NaN  24.730013  ...                   False   \n",
       " ...                      ...        ...  ...                     ...   \n",
       " 190805042071078172  0.640087  25.590890  ...                   False   \n",
       " 190805042071078173  2.037827  25.591345  ...                   False   \n",
       " 190805042071078174  1.965856  25.647608  ...                   False   \n",
       " 190805042071078175       NaN  25.651011  ...                   False   \n",
       " 190805042071078176  1.225230  25.649902  ...                   False   \n",
       " \n",
       "                     hsmShapeRegauss_flag  hsmShapeRegauss_flag_galsim  \\\n",
       " sourceId                                                                \n",
       " 190805042037522433                 False                        False   \n",
       " 190805042037522434                  True                        False   \n",
       " 190805042037522435                 False                        False   \n",
       " 190805042037522436                  True                        False   \n",
       " 190805042037522437                 False                        False   \n",
       " ...                                  ...                          ...   \n",
       " 190805042071078172                 False                        False   \n",
       " 190805042071078173                 False                        False   \n",
       " 190805042071078174                 False                        False   \n",
       " 190805042071078175                 False                        False   \n",
       " 190805042071078176                 False                        False   \n",
       " \n",
       "                     hsmShapeRegauss_flag_no_pixels  \\\n",
       " sourceId                                             \n",
       " 190805042037522433                           False   \n",
       " 190805042037522434                           False   \n",
       " 190805042037522435                           False   \n",
       " 190805042037522436                           False   \n",
       " 190805042037522437                           False   \n",
       " ...                                            ...   \n",
       " 190805042071078172                           False   \n",
       " 190805042071078173                           False   \n",
       " 190805042071078174                           False   \n",
       " 190805042071078175                           False   \n",
       " 190805042071078176                           False   \n",
       " \n",
       "                     hsmShapeRegauss_flag_not_contained  \\\n",
       " sourceId                                                 \n",
       " 190805042037522433                               False   \n",
       " 190805042037522434                               False   \n",
       " 190805042037522435                               False   \n",
       " 190805042037522436                               False   \n",
       " 190805042037522437                               False   \n",
       " ...                                                ...   \n",
       " 190805042071078172                               False   \n",
       " 190805042071078173                               False   \n",
       " 190805042071078174                               False   \n",
       " 190805042071078175                               False   \n",
       " 190805042071078176                               False   \n",
       " \n",
       "                     hsmShapeRegauss_flag_parent_source  sky_source  \\\n",
       " sourceId                                                             \n",
       " 190805042037522433                               False       False   \n",
       " 190805042037522434                               False       False   \n",
       " 190805042037522435                               False       False   \n",
       " 190805042037522436                               False       False   \n",
       " 190805042037522437                               False       False   \n",
       " ...                                                ...         ...   \n",
       " 190805042071078172                               False       False   \n",
       " 190805042071078173                               False       False   \n",
       " 190805042071078174                               False       False   \n",
       " 190805042071078175                               False       False   \n",
       " 190805042071078176                               False       False   \n",
       " \n",
       "                     detect_isPrimary  band  physical_filter  \n",
       " sourceId                                                     \n",
       " 190805042037522433              True     r             r_03  \n",
       " 190805042037522434              True     r             r_03  \n",
       " 190805042037522435              True     r             r_03  \n",
       " 190805042037522436              True     r             r_03  \n",
       " 190805042037522437              True     r             r_03  \n",
       " ...                              ...   ...              ...  \n",
       " 190805042071078172              True     r             r_03  \n",
       " 190805042071078173              True     r             r_03  \n",
       " 190805042071078174              True     r             r_03  \n",
       " 190805042071078175              True     r             r_03  \n",
       " 190805042071078176              True     r             r_03  \n",
       " \n",
       " [12900 rows x 165 columns]}"
      ]
     },
     "execution_count": 9,
     "metadata": {},
     "output_type": "execute_result"
    }
   ],
   "source": [
    "bs_dict"
   ]
  },
  {
   "cell_type": "code",
   "execution_count": null,
   "id": "0a536103-f60c-4b5d-b9f7-32b4bb5ddf47",
   "metadata": {},
   "outputs": [],
   "source": []
  }
 ],
 "metadata": {
  "kernelspec": {
   "display_name": "LSST",
   "language": "python",
   "name": "lsst"
  },
  "language_info": {
   "codemirror_mode": {
    "name": "ipython",
    "version": 3
   },
   "file_extension": ".py",
   "mimetype": "text/x-python",
   "name": "python",
   "nbconvert_exporter": "python",
   "pygments_lexer": "ipython3",
   "version": "3.12.9"
  }
 },
 "nbformat": 4,
 "nbformat_minor": 5
}
